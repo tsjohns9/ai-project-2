import pandas as pd

# Load the CSV file into a DataFrame
home_prices_df = pd.read_csv("Metro_US_All_Home_Prices.csv")
print(home_prices_df.head())

# Create a new column "Metro City" by extracting the city name from "Region Name"
# We split the string in "Region Name" at the comma and take the first part (city)
home_prices_df["Metro City"] = home_prices_df["RegionName"].str.split(',').str[0]

# Display the updated DataFrame to verify the new "Metro City" column
home_prices_df.head()


commute_df = pd.read_csv("Commute_Time_By_Top_25_Metro_Area_All_Years__Three Buckets_Percentage.csv")
print(commute_df.head())

# Drop rows in the home_prices_df where "Metro City" doesn't match with any city in "Metro" column of commute_df
filtered_home_prices_df = home_prices_df[home_prices_df["Metro City"].isin(commute_df["Metro"])]

# Display the filtered DataFrame to verify the rows have been dropped correctly
filtered_home_prices_df




# Step 1: Identify columns that contain date information
date_columns = filtered_home_prices_df.filter(regex=r'^\d{4}-\d{2}-\d{2}$').columns

# Step 2: Create a new DataFrame to store yearly averages
# Extract the year from the date columns
filtered_home_prices_df_yearly_avg = filtered_home_prices_df.copy()

# Loop through each year from the date columns
for year in range(2000, 2025):  # From 2000 to 2024
    # Select all columns that match the current year
    year_columns = [col for col in date_columns if col.startswith(str(year))]
    
    # Calculate the average for that year across the matching columns
    filtered_home_prices_df_yearly_avg[str(year)] = filtered_home_prices_df[year_columns].mean(axis=1)

# Drop the original date columns
filtered_home_prices_df_yearly_avg = filtered_home_prices_df_yearly_avg.drop(columns=date_columns)

# Display the updated DataFrame with yearly averages
print(filtered_home_prices_df_yearly_avg.head())


# Select the columns representing years between 2010 and 2024 (inclusive)
columns_to_keep = [str(year) for year in range(2010, 2025)]  # This creates a list of year columns from 2010 to 2024

# Keep only the required year columns and any non-year columns (like 'Metro City', etc.)
# Assuming there are other necessary columns (e.g., 'Metro City'), we include those as well
necessary_columns = ['Metro City']  # Adjust this list to include any non-year columns you want to keep

# Filter the DataFrame to keep only the necessary and year columns
filtered_home_prices_df_yearly_avg = filtered_home_prices_df_yearly_avg[necessary_columns + columns_to_keep]

# Display the updated DataFrame
filtered_home_prices_df_yearly_avg


Home_Prices_Adjusted_df = pd.melt(filtered_home_prices_df_yearly_avg, id_vars=['Metro City'], var_name='Year', value_name='Value')
Home_Prices_Adjusted_df = Home_Prices_Adjusted_df.sort_values(by=['Metro City', 'Year']).reset_index(drop=True)
Home_Prices_Adjusted_df


import pandas as pd
import matplotlib.pyplot as plt

# Load the commute time data (assuming you've already done this)
commute_df = pd.read_csv("Commute_Time_By_Top_25_Metro_Area_All_Years__Three Buckets_Percentage.csv")

# Assuming 'Year' is already in the commute_df, otherwise convert if necessary
commute_df['Year'] = commute_df['Year'].astype(str)

# Merge the home prices data with the commute data on Metro City (from home prices) and Metro (from commute)
# and Year column in both DataFrames
merged_df = pd.merge(
    Home_Prices_Adjusted_df,        # Home prices data
    commute_df,                     # Commute time data
    left_on=['Metro City', 'Year'],  # Left keys for merging (home prices)
    right_on=['Metro', 'Year'],      # Right keys for merging (commute data)
    how='inner'                     # Perform inner join to keep matching rows only
)

# Loop through each unique metro city and create a separate plot for each city
for metro in merged_df['Metro City'].unique():
    city_data = merged_df[merged_df['Metro City'] == metro]
    
    plt.figure(figsize=(10, 6))
    
    # Plot Home Prices
    plt.plot(city_data['Year'], city_data['Value'], label=f'{metro} - Home Prices', marker='o')
    
    # Plot Commute Time (Total)
    plt.plot(city_data['Year'], city_data['Total'], label=f'{metro} - Commute Time (Total)', marker='x')
    
    # Customize each plot
    plt.title(f"Comparison of Home Prices and Commute Time for {metro}")
    plt.xlabel("Year")
    plt.ylabel("Value (Home Prices) / Commute Time (Total)")
    plt.xticks(rotation=45)
    plt.legend(loc='best')
    plt.grid(True)
    
    # Show the plot for this city
    plt.tight_layout()
    plt.show()




